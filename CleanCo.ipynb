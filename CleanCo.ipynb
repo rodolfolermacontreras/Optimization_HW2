{
 "cells": [
  {
   "cell_type": "markdown",
   "metadata": {},
   "source": [
    "Linear Programming Model Formulation:\n",
    "\n",
    "Let us denote:\n",
    "\n",
    "    W as the set of warehouses,\n",
    "    R as the set of retail outlets,\n",
    "    x_wr as the decision variable representing the number of machines shipped from warehouse w ∈ W to retail outlet r ∈ R,\n",
    "    c_wr as the cost of shipping a machine from warehouse w ∈ W to retail outlet r ∈ R,\n",
    "    s_w as the supply of machines at warehouse w ∈ W,\n",
    "    d_r as the demand of machines at retail outlet r ∈ R.\n",
    "\n",
    "We formulate the model as follows:\n",
    "\n",
    "Minimize:\n",
    "∑_{w ∈ W} ∑_{r ∈ R} c_wr * x_wr\n",
    "\n",
    "Subject to:\n",
    "∑_{r ∈ R} x_wr ≤ s_w, for all w ∈ W,\n",
    "∑_{w ∈ W} x_wr ≥ d_r, for all r ∈ R,\n",
    "x_wr ≥ 0, for all w ∈ W, r ∈ R."
   ]
  },
  {
   "cell_type": "markdown",
   "metadata": {},
   "source": [
    "# Linear Programming Model Formulation\n",
    "\n",
    "Let us denote:\n",
    "\n",
    "- \\(W\\): the set of warehouses,\n",
    "- \\(R\\): the set of retail outlets,\n",
    "- \\(x_{wr}\\): the decision variable representing the number of machines shipped from warehouse \\(w \\in W\\) to retail outlet \\(r \\in R\\),\n",
    "- \\(c_{wr}\\): the cost of shipping a machine from warehouse \\(w \\in W\\) to retail outlet \\(r \\in R\\),\n",
    "- \\(s_w\\): the supply of machines at warehouse \\(w \\in W\\),\n",
    "- \\(d_r\\): the demand of machines at retail outlet \\(r \\in R\\).\n",
    "\n",
    "We formulate the model as follows:\n",
    "\n",
    "**Minimize:**\n",
    "\\[\n",
    "\\sum_{w \\in W} \\sum_{r \\in R} c_{wr} * x_{wr}\n",
    "\\]\n",
    "\n",
    "**Subject to:**\n",
    "\\[\n",
    "\\begin{align*}\n",
    "\\sum_{r \\in R} x_{wr} &\\leq s_w, \\quad \\forall w \\in W, \\\\\n",
    "\\sum_{w \\in W} x_{wr} &\\geq d_r, \\quad \\forall r \\in R, \\\\\n",
    "x_{wr} &\\geq 0, \\quad \\forall w \\in W, r \\in R.\n",
    "\\end{align*}\n",
    "\\]\n"
   ]
  },
  {
   "cell_type": "code",
   "execution_count": 1,
   "metadata": {},
   "outputs": [],
   "source": [
    "Warehouses = {'w1', 'w2', 'w3'}\n",
    "Retailers = {'r1', 'r2', 'r3', 'r4'}\n",
    "Cost = {\n",
    "    ('w1', 'r1') : 7, \t('w1', 'r2') : 3, \t('w1', 'r3') : 8, \t('w1', 'r4') : 4, \n",
    "    ('w2', 'r1') : 9, \t('w2', 'r2') : 5, \t('w2', 'r3') : 6, \t('w2', 'r4') : 3, \n",
    "    ('w3', 'r1') : 4, \t('w3', 'r2') : 6, \t('w3', 'r3') : 9, \t('w3', 'r4') : 6\n",
    "}\n",
    "Supply = { 'w1' : 6000, 'w2' : 9000, 'w3' : 4000 }\n",
    "Demand = { 'r1' : 3900, 'r2' : 5200, 'r3' : 2700, 'r4' : 6400 }"
   ]
  },
  {
   "cell_type": "code",
   "execution_count": 2,
   "metadata": {},
   "outputs": [],
   "source": [
    "from docplex.mp.model import Model"
   ]
  },
  {
   "cell_type": "code",
   "execution_count": 3,
   "metadata": {},
   "outputs": [],
   "source": [
    "# Create an instance of a model\n",
    "mdl = Model()"
   ]
  },
  {
   "cell_type": "code",
   "execution_count": 4,
   "metadata": {},
   "outputs": [],
   "source": [
    "# Add decision variables\n",
    "x = mdl.continuous_var_dict(((w, r) for w in Warehouses for r in Retailers), name='x')"
   ]
  },
  {
   "cell_type": "code",
   "execution_count": 5,
   "metadata": {},
   "outputs": [],
   "source": [
    "# Add objective function\n",
    "mdl.minimize(mdl.sum(Cost[w, r] * x[w, r] for w in Warehouses for r in Retailers))"
   ]
  },
  {
   "cell_type": "code",
   "execution_count": 6,
   "metadata": {},
   "outputs": [],
   "source": [
    "# Add constraints\n",
    "for w in Warehouses:\n",
    "    mdl.add_constraint(mdl.sum(x[w, r] for r in Retailers) <= Supply[w])\n",
    "for r in Retailers:\n",
    "    mdl.add_constraint(mdl.sum(x[w, r] for w in Warehouses) >= Demand[r])"
   ]
  },
  {
   "cell_type": "code",
   "execution_count": 7,
   "metadata": {},
   "outputs": [],
   "source": [
    "# Solve the model\n",
    "solution = mdl.solve()"
   ]
  },
  {
   "cell_type": "code",
   "execution_count": 8,
   "metadata": {},
   "outputs": [
    {
     "name": "stdout",
     "output_type": "stream",
     "text": [
      "Ship 0 machines from w3 to r4\n",
      "Ship 3900.0 machines from w3 to r1\n",
      "Ship 0 machines from w3 to r2\n",
      "Ship 0 machines from w3 to r3\n",
      "Ship 6300.0 machines from w2 to r4\n",
      "Ship 0 machines from w2 to r1\n",
      "Ship 0 machines from w2 to r2\n",
      "Ship 2700.0 machines from w2 to r3\n",
      "Ship 100.0 machines from w1 to r4\n",
      "Ship 0 machines from w1 to r1\n",
      "Ship 5200.0 machines from w1 to r2\n",
      "Ship 0 machines from w1 to r3\n"
     ]
    }
   ],
   "source": [
    "# Print the solution\n",
    "if solution:\n",
    "    for w in Warehouses:\n",
    "        for r in Retailers:\n",
    "            print(f'Ship {x[w, r].solution_value} machines from {w} to {r}')\n",
    "else:\n",
    "    print('No solution found')"
   ]
  }
 ],
 "metadata": {
  "kernelspec": {
   "display_name": "Python 3 (ipykernel)",
   "language": "python",
   "name": "python3"
  },
  "language_info": {
   "codemirror_mode": {
    "name": "ipython",
    "version": 3
   },
   "file_extension": ".py",
   "mimetype": "text/x-python",
   "name": "python",
   "nbconvert_exporter": "python",
   "pygments_lexer": "ipython3",
   "version": "3.9.16"
  }
 },
 "nbformat": 4,
 "nbformat_minor": 2
}
