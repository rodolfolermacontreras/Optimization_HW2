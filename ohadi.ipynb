{
 "cells": [
  {
   "cell_type": "markdown",
   "metadata": {},
   "source": [
    "Linear Programming Model Formulation:\n",
    "\n",
    "Let us denote:\n",
    "\n",
    "    S as the set of suppliers,\n",
    "    G as the set of groups (large, medium, small),\n",
    "    x_s as the decision variable representing the amount (in tonnes) of potatoes bought from supplier s ∈ S,\n",
    "    c_s as the cost per tonne of potatoes from supplier s ∈ S,\n",
    "    p_gs as the proportion of group g ∈ G potatoes from supplier s ∈ S,\n",
    "    d_g as the demand for group g ∈ G.\n",
    "\n",
    "We formulate the model as follows:\n",
    "\n",
    "Minimize:\n",
    "∑_{s ∈ S} c_s * x_s\n",
    "\n",
    "Subject to:\n",
    "∑_{s ∈ S} p_gs * x_s ≥ d_g, for all g ∈ G,\n",
    "x_s ≥ 0, for all s ∈ S."
   ]
  },
  {
   "cell_type": "markdown",
   "metadata": {},
   "source": [
    "# Linear Programming Model Formulation\n",
    "\n",
    "Let us denote:\n",
    "\n",
    "- \\(S\\): the set of suppliers,\n",
    "- \\(G\\): the set of groups (large, medium, small),\n",
    "- \\(x_s\\): the decision variable representing the amount (in tonnes) of potatoes bought from supplier \\(s \\in S\\),\n",
    "- \\(c_s\\): the cost per tonne of potatoes from supplier \\(s \\in S\\),\n",
    "- \\(p_{gs}\\): the proportion of group \\(g \\in G\\) potatoes from supplier \\(s \\in S\\),\n",
    "- \\(d_g\\): the demand for group \\(g \\in G\\).\n",
    "\n",
    "We formulate the model as follows:\n",
    "\n",
    "**Minimize:**\n",
    "\\[\n",
    "\\sum_{s \\in S} c_s * x_s\n",
    "\\]\n",
    "\n",
    "**Subject to:**\n",
    "\\[\n",
    "\\begin{align*}\n",
    "\\sum_{s \\in S} p_{gs} * x_s &\\geq d_g, \\quad \\forall g \\in G, \\\\\n",
    "x_s &\\geq 0, \\quad \\forall s \\in S.\n",
    "\\end{align*}\n",
    "\\]\n"
   ]
  },
  {
   "cell_type": "markdown",
   "metadata": {},
   "source": [
    "Let us denote:\n",
    "\n",
    "- \\(S\\): the set of suppliers,\n",
    "- \\(G\\): the set of groups (large, medium, small),\n",
    "- \\(x_s\\): the decision variable representing the amount (in tonnes) of potatoes bought from supplier \\(s \\in S\\),\n",
    "- \\(c_s\\): the cost per tonne of potatoes from supplier \\(s \\in S\\),\n",
    "- \\(p_{gs}\\): the proportion of group \\(g \\in G\\) potatoes from supplier \\(s \\in S\\),\n",
    "- \\(d_g\\): the demand for group \\(g \\in G\\).\n",
    "\n",
    "We formulate the model as follows:\n",
    "\n",
    "**Minimize:**\n",
    "\\[\n",
    "\\sum_{s \\in S} c_s * x_s\n",
    "\\]\n",
    "\n",
    "**Subject to:**\n",
    "\\[\n",
    "\\begin{align*}\n",
    "\\sum_{s \\in S} p_{gs} * x_s &\\geq d_g, \\quad \\forall g \\in G, \\\\\n",
    "x_s &\\geq 0, \\quad \\forall s \\in S.\n",
    "\\end{align*}\n",
    "\\]\n"
   ]
  },
  {
   "cell_type": "code",
   "execution_count": 2,
   "metadata": {},
   "outputs": [],
   "source": [
    "Groups = { 'Large', 'Medium', 'Small' }\n",
    "Demand = { 'Large' : 120, 'Medium' : 180, 'Small' : 150 }\n",
    "Suppliers = { 'Supplier 1', 'Supplier 2', 'Supplier 3', 'Supplier 4', 'Supplier 5' }\n",
    "Cost = { 'Supplier 1': 310, 'Supplier 2': 270, 'Supplier 3': 320, 'Supplier 4': 240, 'Supplier 5': 250 }\n",
    "Content = {\n",
    "    ('Supplier 1', 'Large') : 0.28, \t('Supplier 1', 'Medium') : 0.45, \t('Supplier 1', 'Small') : 0.27, \n",
    "    ('Supplier 2', 'Large') : 0.25, \t('Supplier 2', 'Medium') : 0.4, \t('Supplier 2', 'Small') : 0.35, \n",
    "    ('Supplier 3', 'Large') : 0.3, \t('Supplier 3', 'Medium') : 0.41, \t('Supplier 3', 'Small') : 0.29, \n",
    "    ('Supplier 4', 'Large') : 0.17, \t('Supplier 4', 'Medium') : 0.48, \t('Supplier 4', 'Small') : 0.35, \n",
    "    ('Supplier 5', 'Large') : 0.21, \t('Supplier 5', 'Medium') : 0.42, \t('Supplier 5', 'Small') : 0.37\n",
    "}"
   ]
  },
  {
   "cell_type": "code",
   "execution_count": 1,
   "metadata": {},
   "outputs": [],
   "source": [
    "from docplex.mp.model import Model\n",
    "\n",
    "# Create an instance of a model\n",
    "mdl = Model()"
   ]
  },
  {
   "cell_type": "code",
   "execution_count": 3,
   "metadata": {},
   "outputs": [],
   "source": [
    "# Add decision variables\n",
    "x = mdl.continuous_var_dict(Suppliers, name='x')"
   ]
  },
  {
   "cell_type": "code",
   "execution_count": 4,
   "metadata": {},
   "outputs": [],
   "source": [
    "# Add objective function\n",
    "mdl.minimize(mdl.sum(Cost[s] * x[s] for s in Suppliers))"
   ]
  },
  {
   "cell_type": "code",
   "execution_count": 5,
   "metadata": {},
   "outputs": [],
   "source": [
    "# Add constraints\n",
    "for g in Groups:\n",
    "    mdl.add_constraint(mdl.sum(Content[s, g] * x[s] for s in Suppliers) >= Demand[g])"
   ]
  },
  {
   "cell_type": "code",
   "execution_count": 7,
   "metadata": {},
   "outputs": [],
   "source": [
    "# Solve the model\n",
    "solution = mdl.solve()"
   ]
  },
  {
   "cell_type": "code",
   "execution_count": 8,
   "metadata": {},
   "outputs": [
    {
     "name": "stdout",
     "output_type": "stream",
     "text": [
      "Amount of potatoes to purchase from Supplier 3: 138.46153846153848 tonnes\n",
      "Amount of potatoes to purchase from Supplier 2: 313.8461538461538 tonnes\n",
      "Amount of potatoes to purchase from Supplier 5: 0 tonnes\n",
      "Amount of potatoes to purchase from Supplier 4: 0 tonnes\n",
      "Amount of potatoes to purchase from Supplier 1: 0 tonnes\n"
     ]
    }
   ],
   "source": [
    "# Print the solution\n",
    "if solution:\n",
    "    for s in Suppliers:\n",
    "        print(f'Amount of potatoes to purchase from {s}: {x[s].solution_value} tonnes')\n",
    "else:\n",
    "    print('No solution found')"
   ]
  }
 ],
 "metadata": {
  "kernelspec": {
   "display_name": "Python 3 (ipykernel)",
   "language": "python",
   "name": "python3"
  },
  "language_info": {
   "codemirror_mode": {
    "name": "ipython",
    "version": 3
   },
   "file_extension": ".py",
   "mimetype": "text/x-python",
   "name": "python",
   "nbconvert_exporter": "python",
   "pygments_lexer": "ipython3",
   "version": "3.9.16"
  }
 },
 "nbformat": 4,
 "nbformat_minor": 2
}
